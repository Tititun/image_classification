{
 "cells": [
  {
   "cell_type": "markdown",
   "id": "7a27263e-9427-4f8b-89f1-9b37ff66c2b1",
   "metadata": {},
   "source": [
    "Среди многих скачанных изображений, мы отфильтровываем те, которые не удается конвертировать \\\n",
    "в jpg формат, чтобы избежать ошибок при состалвении датасета tensorflow."
   ]
  },
  {
   "cell_type": "code",
   "execution_count": 6,
   "id": "3759e99a-9e90-40a7-b658-4d4a55f568a9",
   "metadata": {},
   "outputs": [
    {
     "name": "stderr",
     "output_type": "stream",
     "text": [
      "/home/danil/PycharmProjects/image_classification/venv/lib/python3.10/site-packages/PIL/Image.py:1000: UserWarning: Palette images with Transparency expressed in bytes should be converted to RGBA images\n",
      "  warnings.warn(\n"
     ]
    }
   ],
   "source": [
    "import os\n",
    "import pathlib\n",
    "import shutil\n",
    "import PIL.Image\n",
    "\n",
    "data_dir = pathlib.Path(\"/home/danil/Documents/курсовая/image_classification/categories/all/\")\n",
    "image_extensions = [\".png\", \".jpg\"]  # add there all your images file extensions\n",
    "\n",
    "for filepath in data_dir.glob('*/*.jpg'):\n",
    "    if filepath.suffix.lower() in image_extensions:\n",
    "        new_path = os.path.join(\"/home/danil/Documents/курсовая/image_classification/categories/all_cleaned/\", *filepath.parts[-2:])\n",
    "        dir_name = os.path.join(\"/home/danil/Documents/курсовая/image_classification/categories/all_cleaned/\", filepath.parts[-2])\n",
    "        # if filepath.parts[-2] != 'tea':\n",
    "        #     continue\n",
    "        if os.path.exists(new_path):\n",
    "            continue\n",
    "        if not os.path.exists(dir_name):\n",
    "            os.mkdir(dir_name)\n",
    "        try:\n",
    "            im = PIL.Image.open(filepath)\n",
    "            im.save(new_path)\n",
    "        except ValueError:\n",
    "            continue\n",
    "        except PIL.UnidentifiedImageError:\n",
    "            pass\n",
    "        except OSError:\n",
    "            im = im.convert('RGB')\n",
    "            im.save(new_path)"
   ]
  }
 ],
 "metadata": {
  "kernelspec": {
   "display_name": "Python 3 (ipykernel)",
   "language": "python",
   "name": "python3"
  },
  "language_info": {
   "codemirror_mode": {
    "name": "ipython",
    "version": 3
   },
   "file_extension": ".py",
   "mimetype": "text/x-python",
   "name": "python",
   "nbconvert_exporter": "python",
   "pygments_lexer": "ipython3",
   "version": "3.10.12"
  }
 },
 "nbformat": 4,
 "nbformat_minor": 5
}
