{
 "cells": [
  {
   "cell_type": "code",
   "execution_count": 1,
   "id": "33e3977d-2df9-4851-b95a-fd3fc4e89366",
   "metadata": {},
   "outputs": [
    {
     "name": "stderr",
     "output_type": "stream",
     "text": [
      "2024-04-24 14:45:20.854842: I tensorflow/core/platform/cpu_feature_guard.cc:210] This TensorFlow binary is optimized to use available CPU instructions in performance-critical operations.\n",
      "To enable the following instructions: AVX2 FMA, in other operations, rebuild TensorFlow with the appropriate compiler flags.\n",
      "2024-04-24 14:45:21.637586: W tensorflow/compiler/tf2tensorrt/utils/py_utils.cc:38] TF-TRT Warning: Could not find TensorRT\n",
      "2024-04-24 14:45:22.301471: I external/local_xla/xla/stream_executor/cuda/cuda_executor.cc:998] successful NUMA node read from SysFS had negative value (-1), but there must be at least one NUMA node, so returning NUMA node zero. See more at https://github.com/torvalds/linux/blob/v6.0/Documentation/ABI/testing/sysfs-bus-pci#L344-L355\n",
      "2024-04-24 14:45:22.343771: I external/local_xla/xla/stream_executor/cuda/cuda_executor.cc:998] successful NUMA node read from SysFS had negative value (-1), but there must be at least one NUMA node, so returning NUMA node zero. See more at https://github.com/torvalds/linux/blob/v6.0/Documentation/ABI/testing/sysfs-bus-pci#L344-L355\n",
      "2024-04-24 14:45:22.343955: I external/local_xla/xla/stream_executor/cuda/cuda_executor.cc:998] successful NUMA node read from SysFS had negative value (-1), but there must be at least one NUMA node, so returning NUMA node zero. See more at https://github.com/torvalds/linux/blob/v6.0/Documentation/ABI/testing/sysfs-bus-pci#L344-L355\n"
     ]
    }
   ],
   "source": [
    "import logging\n",
    "\n",
    "import matplotlib.pyplot as plt\n",
    "import numpy as np\n",
    "import os\n",
    "import tensorflow as tf\n",
    "\n",
    "from utils.load_dataset import load_dataset\n",
    "\n",
    "tf.get_logger().setLevel(logging.ERROR)\n",
    "gpus = tf.config.list_physical_devices('GPU')\n",
    "if gpus:\n",
    "    for gpu in gpus:\n",
    "        tf.config.experimental.set_memory_growth(gpu, True)"
   ]
  },
  {
   "cell_type": "code",
   "execution_count": 2,
   "id": "f1b3c950-fd87-4fcd-9cce-73a2a3062ca8",
   "metadata": {},
   "outputs": [
    {
     "name": "stdout",
     "output_type": "stream",
     "text": [
      "Found 19794 files belonging to 40 classes.\n",
      "Using 13856 files for training.\n"
     ]
    },
    {
     "name": "stderr",
     "output_type": "stream",
     "text": [
      "2024-04-24 14:45:25.249178: I external/local_xla/xla/stream_executor/cuda/cuda_executor.cc:998] successful NUMA node read from SysFS had negative value (-1), but there must be at least one NUMA node, so returning NUMA node zero. See more at https://github.com/torvalds/linux/blob/v6.0/Documentation/ABI/testing/sysfs-bus-pci#L344-L355\n",
      "2024-04-24 14:45:25.249389: I external/local_xla/xla/stream_executor/cuda/cuda_executor.cc:998] successful NUMA node read from SysFS had negative value (-1), but there must be at least one NUMA node, so returning NUMA node zero. See more at https://github.com/torvalds/linux/blob/v6.0/Documentation/ABI/testing/sysfs-bus-pci#L344-L355\n",
      "2024-04-24 14:45:25.249529: I external/local_xla/xla/stream_executor/cuda/cuda_executor.cc:998] successful NUMA node read from SysFS had negative value (-1), but there must be at least one NUMA node, so returning NUMA node zero. See more at https://github.com/torvalds/linux/blob/v6.0/Documentation/ABI/testing/sysfs-bus-pci#L344-L355\n",
      "2024-04-24 14:45:25.312805: I external/local_xla/xla/stream_executor/cuda/cuda_executor.cc:998] successful NUMA node read from SysFS had negative value (-1), but there must be at least one NUMA node, so returning NUMA node zero. See more at https://github.com/torvalds/linux/blob/v6.0/Documentation/ABI/testing/sysfs-bus-pci#L344-L355\n",
      "2024-04-24 14:45:25.312992: I external/local_xla/xla/stream_executor/cuda/cuda_executor.cc:998] successful NUMA node read from SysFS had negative value (-1), but there must be at least one NUMA node, so returning NUMA node zero. See more at https://github.com/torvalds/linux/blob/v6.0/Documentation/ABI/testing/sysfs-bus-pci#L344-L355\n",
      "2024-04-24 14:45:25.313140: I external/local_xla/xla/stream_executor/cuda/cuda_executor.cc:998] successful NUMA node read from SysFS had negative value (-1), but there must be at least one NUMA node, so returning NUMA node zero. See more at https://github.com/torvalds/linux/blob/v6.0/Documentation/ABI/testing/sysfs-bus-pci#L344-L355\n",
      "2024-04-24 14:45:25.313252: I tensorflow/core/common_runtime/gpu/gpu_device.cc:1928] Created device /job:localhost/replica:0/task:0/device:GPU:0 with 6998 MB memory:  -> device: 0, name: NVIDIA GeForce GTX 1070, pci bus id: 0000:01:00.0, compute capability: 6.1\n"
     ]
    },
    {
     "name": "stdout",
     "output_type": "stream",
     "text": [
      "Found 19794 files belonging to 40 classes.\n",
      "Using 5938 files for validation.\n"
     ]
    }
   ],
   "source": [
    "train_ds, val_ds, test_ds = load_dataset()"
   ]
  },
  {
   "cell_type": "code",
   "execution_count": 8,
   "id": "d5e30506-d1a1-47d6-a68b-1323bdafbd5a",
   "metadata": {},
   "outputs": [
    {
     "ename": "ValueError",
     "evalue": "A total of 102 objects could not be loaded. Example error message for object <Conv2D name=conv1_conv, built=True>:\n\nLayer 'conv1_conv' expected 4 variables, but received 2 variables during loading. Expected: ['kernel', 'bias', 'kernel', 'bias']\n\nList of objects that could not be loaded:\n[<Conv2D name=conv1_conv, built=True>, <BatchNormalization name=conv2_block1_preact_bn, built=True>, <Conv2D name=conv2_block1_1_conv, built=True>, <BatchNormalization name=conv2_block1_1_bn, built=True>, <Conv2D name=conv2_block1_2_conv, built=True>, <BatchNormalization name=conv2_block1_2_bn, built=True>, <Conv2D name=conv2_block1_0_conv, built=True>, <Conv2D name=conv2_block1_3_conv, built=True>, <BatchNormalization name=conv2_block2_preact_bn, built=True>, <Conv2D name=conv2_block2_1_conv, built=True>, <BatchNormalization name=conv2_block2_1_bn, built=True>, <Conv2D name=conv2_block2_2_conv, built=True>, <BatchNormalization name=conv2_block2_2_bn, built=True>, <Conv2D name=conv2_block2_3_conv, built=True>, <BatchNormalization name=conv2_block3_preact_bn, built=True>, <Conv2D name=conv2_block3_1_conv, built=True>, <BatchNormalization name=conv2_block3_1_bn, built=True>, <Conv2D name=conv2_block3_2_conv, built=True>, <BatchNormalization name=conv2_block3_2_bn, built=True>, <Conv2D name=conv2_block3_3_conv, built=True>, <BatchNormalization name=conv3_block1_preact_bn, built=True>, <Conv2D name=conv3_block1_1_conv, built=True>, <BatchNormalization name=conv3_block1_1_bn, built=True>, <Conv2D name=conv3_block1_2_conv, built=True>, <BatchNormalization name=conv3_block1_2_bn, built=True>, <Conv2D name=conv3_block1_0_conv, built=True>, <Conv2D name=conv3_block1_3_conv, built=True>, <BatchNormalization name=conv3_block2_preact_bn, built=True>, <Conv2D name=conv3_block2_1_conv, built=True>, <BatchNormalization name=conv3_block2_1_bn, built=True>, <Conv2D name=conv3_block2_2_conv, built=True>, <BatchNormalization name=conv3_block2_2_bn, built=True>, <Conv2D name=conv3_block2_3_conv, built=True>, <BatchNormalization name=conv3_block3_preact_bn, built=True>, <Conv2D name=conv3_block3_1_conv, built=True>, <BatchNormalization name=conv3_block3_1_bn, built=True>, <Conv2D name=conv3_block3_2_conv, built=True>, <BatchNormalization name=conv3_block3_2_bn, built=True>, <Conv2D name=conv3_block3_3_conv, built=True>, <BatchNormalization name=conv3_block4_preact_bn, built=True>, <Conv2D name=conv3_block4_1_conv, built=True>, <BatchNormalization name=conv3_block4_1_bn, built=True>, <Conv2D name=conv3_block4_2_conv, built=True>, <BatchNormalization name=conv3_block4_2_bn, built=True>, <Conv2D name=conv3_block4_3_conv, built=True>, <BatchNormalization name=conv4_block1_preact_bn, built=True>, <Conv2D name=conv4_block1_1_conv, built=True>, <BatchNormalization name=conv4_block1_1_bn, built=True>, <Conv2D name=conv4_block1_2_conv, built=True>, <BatchNormalization name=conv4_block1_2_bn, built=True>, <Conv2D name=conv4_block1_0_conv, built=True>, <Conv2D name=conv4_block1_3_conv, built=True>, <BatchNormalization name=conv4_block2_preact_bn, built=True>, <Conv2D name=conv4_block2_1_conv, built=True>, <BatchNormalization name=conv4_block2_1_bn, built=True>, <Conv2D name=conv4_block2_2_conv, built=True>, <BatchNormalization name=conv4_block2_2_bn, built=True>, <Conv2D name=conv4_block2_3_conv, built=True>, <BatchNormalization name=conv4_block3_preact_bn, built=True>, <Conv2D name=conv4_block3_1_conv, built=True>, <BatchNormalization name=conv4_block3_1_bn, built=True>, <Conv2D name=conv4_block3_2_conv, built=True>, <BatchNormalization name=conv4_block3_2_bn, built=True>, <Conv2D name=conv4_block3_3_conv, built=True>, <BatchNormalization name=conv4_block4_preact_bn, built=True>, <Conv2D name=conv4_block4_1_conv, built=True>, <BatchNormalization name=conv4_block4_1_bn, built=True>, <Conv2D name=conv4_block4_2_conv, built=True>, <BatchNormalization name=conv4_block4_2_bn, built=True>, <Conv2D name=conv4_block4_3_conv, built=True>, <BatchNormalization name=conv4_block5_preact_bn, built=True>, <Conv2D name=conv4_block5_1_conv, built=True>, <BatchNormalization name=conv4_block5_1_bn, built=True>, <Conv2D name=conv4_block5_2_conv, built=True>, <BatchNormalization name=conv4_block5_2_bn, built=True>, <Conv2D name=conv4_block5_3_conv, built=True>, <BatchNormalization name=conv4_block6_preact_bn, built=True>, <Conv2D name=conv4_block6_1_conv, built=True>, <BatchNormalization name=conv4_block6_1_bn, built=True>, <Conv2D name=conv4_block6_2_conv, built=True>, <BatchNormalization name=conv4_block6_2_bn, built=True>, <Conv2D name=conv4_block6_3_conv, built=True>, <BatchNormalization name=conv5_block1_preact_bn, built=True>, <Conv2D name=conv5_block1_1_conv, built=True>, <BatchNormalization name=conv5_block1_1_bn, built=True>, <Conv2D name=conv5_block1_2_conv, built=True>, <BatchNormalization name=conv5_block1_2_bn, built=True>, <Conv2D name=conv5_block1_0_conv, built=True>, <Conv2D name=conv5_block1_3_conv, built=True>, <BatchNormalization name=conv5_block2_preact_bn, built=True>, <Conv2D name=conv5_block2_1_conv, built=True>, <BatchNormalization name=conv5_block2_1_bn, built=True>, <Conv2D name=conv5_block2_2_conv, built=True>, <BatchNormalization name=conv5_block2_2_bn, built=True>, <Conv2D name=conv5_block2_3_conv, built=True>, <BatchNormalization name=conv5_block3_preact_bn, built=True>, <Conv2D name=conv5_block3_1_conv, built=True>, <BatchNormalization name=conv5_block3_1_bn, built=True>, <Conv2D name=conv5_block3_2_conv, built=True>, <BatchNormalization name=conv5_block3_2_bn, built=True>, <Conv2D name=conv5_block3_3_conv, built=True>, <BatchNormalization name=post_bn, built=True>]",
     "output_type": "error",
     "traceback": [
      "\u001b[0;31m---------------------------------------------------------------------------\u001b[0m",
      "\u001b[0;31mValueError\u001b[0m                                Traceback (most recent call last)",
      "Cell \u001b[0;32mIn[8], line 1\u001b[0m\n\u001b[0;32m----> 1\u001b[0m model_1 \u001b[38;5;241m=\u001b[39m \u001b[43mtf\u001b[49m\u001b[38;5;241;43m.\u001b[39;49m\u001b[43mkeras\u001b[49m\u001b[38;5;241;43m.\u001b[39;49m\u001b[43mmodels\u001b[49m\u001b[38;5;241;43m.\u001b[39;49m\u001b[43mload_model\u001b[49m\u001b[43m(\u001b[49m\u001b[38;5;124;43m'\u001b[39;49m\u001b[38;5;124;43mready_models/resnet_50_v2.keras\u001b[39;49m\u001b[38;5;124;43m'\u001b[39;49m\u001b[43m)\u001b[49m\n",
      "File \u001b[0;32m~/PycharmProjects/image_classification/venv/lib/python3.10/site-packages/keras/src/saving/saving_api.py:176\u001b[0m, in \u001b[0;36mload_model\u001b[0;34m(filepath, custom_objects, compile, safe_mode)\u001b[0m\n\u001b[1;32m    173\u001b[0m         is_keras_zip \u001b[38;5;241m=\u001b[39m \u001b[38;5;28;01mTrue\u001b[39;00m\n\u001b[1;32m    175\u001b[0m \u001b[38;5;28;01mif\u001b[39;00m is_keras_zip:\n\u001b[0;32m--> 176\u001b[0m     \u001b[38;5;28;01mreturn\u001b[39;00m \u001b[43msaving_lib\u001b[49m\u001b[38;5;241;43m.\u001b[39;49m\u001b[43mload_model\u001b[49m\u001b[43m(\u001b[49m\n\u001b[1;32m    177\u001b[0m \u001b[43m        \u001b[49m\u001b[43mfilepath\u001b[49m\u001b[43m,\u001b[49m\n\u001b[1;32m    178\u001b[0m \u001b[43m        \u001b[49m\u001b[43mcustom_objects\u001b[49m\u001b[38;5;241;43m=\u001b[39;49m\u001b[43mcustom_objects\u001b[49m\u001b[43m,\u001b[49m\n\u001b[1;32m    179\u001b[0m \u001b[43m        \u001b[49m\u001b[38;5;28;43mcompile\u001b[39;49m\u001b[38;5;241;43m=\u001b[39;49m\u001b[38;5;28;43mcompile\u001b[39;49m\u001b[43m,\u001b[49m\n\u001b[1;32m    180\u001b[0m \u001b[43m        \u001b[49m\u001b[43msafe_mode\u001b[49m\u001b[38;5;241;43m=\u001b[39;49m\u001b[43msafe_mode\u001b[49m\u001b[43m,\u001b[49m\n\u001b[1;32m    181\u001b[0m \u001b[43m    \u001b[49m\u001b[43m)\u001b[49m\n\u001b[1;32m    182\u001b[0m \u001b[38;5;28;01mif\u001b[39;00m \u001b[38;5;28mstr\u001b[39m(filepath)\u001b[38;5;241m.\u001b[39mendswith((\u001b[38;5;124m\"\u001b[39m\u001b[38;5;124m.h5\u001b[39m\u001b[38;5;124m\"\u001b[39m, \u001b[38;5;124m\"\u001b[39m\u001b[38;5;124m.hdf5\u001b[39m\u001b[38;5;124m\"\u001b[39m)):\n\u001b[1;32m    183\u001b[0m     \u001b[38;5;28;01mreturn\u001b[39;00m legacy_h5_format\u001b[38;5;241m.\u001b[39mload_model_from_hdf5(filepath)\n",
      "File \u001b[0;32m~/PycharmProjects/image_classification/venv/lib/python3.10/site-packages/keras/src/saving/saving_lib.py:152\u001b[0m, in \u001b[0;36mload_model\u001b[0;34m(filepath, custom_objects, compile, safe_mode)\u001b[0m\n\u001b[1;32m    147\u001b[0m     \u001b[38;5;28;01mraise\u001b[39;00m \u001b[38;5;167;01mValueError\u001b[39;00m(\n\u001b[1;32m    148\u001b[0m         \u001b[38;5;124m\"\u001b[39m\u001b[38;5;124mInvalid filename: expected a `.keras` extension. \u001b[39m\u001b[38;5;124m\"\u001b[39m\n\u001b[1;32m    149\u001b[0m         \u001b[38;5;124mf\u001b[39m\u001b[38;5;124m\"\u001b[39m\u001b[38;5;124mReceived: filepath=\u001b[39m\u001b[38;5;132;01m{\u001b[39;00mfilepath\u001b[38;5;132;01m}\u001b[39;00m\u001b[38;5;124m\"\u001b[39m\n\u001b[1;32m    150\u001b[0m     )\n\u001b[1;32m    151\u001b[0m \u001b[38;5;28;01mwith\u001b[39;00m \u001b[38;5;28mopen\u001b[39m(filepath, \u001b[38;5;124m\"\u001b[39m\u001b[38;5;124mrb\u001b[39m\u001b[38;5;124m\"\u001b[39m) \u001b[38;5;28;01mas\u001b[39;00m f:\n\u001b[0;32m--> 152\u001b[0m     \u001b[38;5;28;01mreturn\u001b[39;00m \u001b[43m_load_model_from_fileobj\u001b[49m\u001b[43m(\u001b[49m\n\u001b[1;32m    153\u001b[0m \u001b[43m        \u001b[49m\u001b[43mf\u001b[49m\u001b[43m,\u001b[49m\u001b[43m \u001b[49m\u001b[43mcustom_objects\u001b[49m\u001b[43m,\u001b[49m\u001b[43m \u001b[49m\u001b[38;5;28;43mcompile\u001b[39;49m\u001b[43m,\u001b[49m\u001b[43m \u001b[49m\u001b[43msafe_mode\u001b[49m\n\u001b[1;32m    154\u001b[0m \u001b[43m    \u001b[49m\u001b[43m)\u001b[49m\n",
      "File \u001b[0;32m~/PycharmProjects/image_classification/venv/lib/python3.10/site-packages/keras/src/saving/saving_lib.py:207\u001b[0m, in \u001b[0;36m_load_model_from_fileobj\u001b[0;34m(fileobj, custom_objects, compile, safe_mode)\u001b[0m\n\u001b[1;32m    204\u001b[0m         asset_store\u001b[38;5;241m.\u001b[39mclose()\n\u001b[1;32m    206\u001b[0m     \u001b[38;5;28;01mif\u001b[39;00m failed_trackables:\n\u001b[0;32m--> 207\u001b[0m         \u001b[43m_raise_loading_failure\u001b[49m\u001b[43m(\u001b[49m\u001b[43merror_msgs\u001b[49m\u001b[43m)\u001b[49m\n\u001b[1;32m    208\u001b[0m \u001b[38;5;28;01mreturn\u001b[39;00m model\n",
      "File \u001b[0;32m~/PycharmProjects/image_classification/venv/lib/python3.10/site-packages/keras/src/saving/saving_lib.py:295\u001b[0m, in \u001b[0;36m_raise_loading_failure\u001b[0;34m(error_msgs, warn_only)\u001b[0m\n\u001b[1;32m    293\u001b[0m     warnings\u001b[38;5;241m.\u001b[39mwarn(msg)\n\u001b[1;32m    294\u001b[0m \u001b[38;5;28;01melse\u001b[39;00m:\n\u001b[0;32m--> 295\u001b[0m     \u001b[38;5;28;01mraise\u001b[39;00m \u001b[38;5;167;01mValueError\u001b[39;00m(msg)\n",
      "\u001b[0;31mValueError\u001b[0m: A total of 102 objects could not be loaded. Example error message for object <Conv2D name=conv1_conv, built=True>:\n\nLayer 'conv1_conv' expected 4 variables, but received 2 variables during loading. Expected: ['kernel', 'bias', 'kernel', 'bias']\n\nList of objects that could not be loaded:\n[<Conv2D name=conv1_conv, built=True>, <BatchNormalization name=conv2_block1_preact_bn, built=True>, <Conv2D name=conv2_block1_1_conv, built=True>, <BatchNormalization name=conv2_block1_1_bn, built=True>, <Conv2D name=conv2_block1_2_conv, built=True>, <BatchNormalization name=conv2_block1_2_bn, built=True>, <Conv2D name=conv2_block1_0_conv, built=True>, <Conv2D name=conv2_block1_3_conv, built=True>, <BatchNormalization name=conv2_block2_preact_bn, built=True>, <Conv2D name=conv2_block2_1_conv, built=True>, <BatchNormalization name=conv2_block2_1_bn, built=True>, <Conv2D name=conv2_block2_2_conv, built=True>, <BatchNormalization name=conv2_block2_2_bn, built=True>, <Conv2D name=conv2_block2_3_conv, built=True>, <BatchNormalization name=conv2_block3_preact_bn, built=True>, <Conv2D name=conv2_block3_1_conv, built=True>, <BatchNormalization name=conv2_block3_1_bn, built=True>, <Conv2D name=conv2_block3_2_conv, built=True>, <BatchNormalization name=conv2_block3_2_bn, built=True>, <Conv2D name=conv2_block3_3_conv, built=True>, <BatchNormalization name=conv3_block1_preact_bn, built=True>, <Conv2D name=conv3_block1_1_conv, built=True>, <BatchNormalization name=conv3_block1_1_bn, built=True>, <Conv2D name=conv3_block1_2_conv, built=True>, <BatchNormalization name=conv3_block1_2_bn, built=True>, <Conv2D name=conv3_block1_0_conv, built=True>, <Conv2D name=conv3_block1_3_conv, built=True>, <BatchNormalization name=conv3_block2_preact_bn, built=True>, <Conv2D name=conv3_block2_1_conv, built=True>, <BatchNormalization name=conv3_block2_1_bn, built=True>, <Conv2D name=conv3_block2_2_conv, built=True>, <BatchNormalization name=conv3_block2_2_bn, built=True>, <Conv2D name=conv3_block2_3_conv, built=True>, <BatchNormalization name=conv3_block3_preact_bn, built=True>, <Conv2D name=conv3_block3_1_conv, built=True>, <BatchNormalization name=conv3_block3_1_bn, built=True>, <Conv2D name=conv3_block3_2_conv, built=True>, <BatchNormalization name=conv3_block3_2_bn, built=True>, <Conv2D name=conv3_block3_3_conv, built=True>, <BatchNormalization name=conv3_block4_preact_bn, built=True>, <Conv2D name=conv3_block4_1_conv, built=True>, <BatchNormalization name=conv3_block4_1_bn, built=True>, <Conv2D name=conv3_block4_2_conv, built=True>, <BatchNormalization name=conv3_block4_2_bn, built=True>, <Conv2D name=conv3_block4_3_conv, built=True>, <BatchNormalization name=conv4_block1_preact_bn, built=True>, <Conv2D name=conv4_block1_1_conv, built=True>, <BatchNormalization name=conv4_block1_1_bn, built=True>, <Conv2D name=conv4_block1_2_conv, built=True>, <BatchNormalization name=conv4_block1_2_bn, built=True>, <Conv2D name=conv4_block1_0_conv, built=True>, <Conv2D name=conv4_block1_3_conv, built=True>, <BatchNormalization name=conv4_block2_preact_bn, built=True>, <Conv2D name=conv4_block2_1_conv, built=True>, <BatchNormalization name=conv4_block2_1_bn, built=True>, <Conv2D name=conv4_block2_2_conv, built=True>, <BatchNormalization name=conv4_block2_2_bn, built=True>, <Conv2D name=conv4_block2_3_conv, built=True>, <BatchNormalization name=conv4_block3_preact_bn, built=True>, <Conv2D name=conv4_block3_1_conv, built=True>, <BatchNormalization name=conv4_block3_1_bn, built=True>, <Conv2D name=conv4_block3_2_conv, built=True>, <BatchNormalization name=conv4_block3_2_bn, built=True>, <Conv2D name=conv4_block3_3_conv, built=True>, <BatchNormalization name=conv4_block4_preact_bn, built=True>, <Conv2D name=conv4_block4_1_conv, built=True>, <BatchNormalization name=conv4_block4_1_bn, built=True>, <Conv2D name=conv4_block4_2_conv, built=True>, <BatchNormalization name=conv4_block4_2_bn, built=True>, <Conv2D name=conv4_block4_3_conv, built=True>, <BatchNormalization name=conv4_block5_preact_bn, built=True>, <Conv2D name=conv4_block5_1_conv, built=True>, <BatchNormalization name=conv4_block5_1_bn, built=True>, <Conv2D name=conv4_block5_2_conv, built=True>, <BatchNormalization name=conv4_block5_2_bn, built=True>, <Conv2D name=conv4_block5_3_conv, built=True>, <BatchNormalization name=conv4_block6_preact_bn, built=True>, <Conv2D name=conv4_block6_1_conv, built=True>, <BatchNormalization name=conv4_block6_1_bn, built=True>, <Conv2D name=conv4_block6_2_conv, built=True>, <BatchNormalization name=conv4_block6_2_bn, built=True>, <Conv2D name=conv4_block6_3_conv, built=True>, <BatchNormalization name=conv5_block1_preact_bn, built=True>, <Conv2D name=conv5_block1_1_conv, built=True>, <BatchNormalization name=conv5_block1_1_bn, built=True>, <Conv2D name=conv5_block1_2_conv, built=True>, <BatchNormalization name=conv5_block1_2_bn, built=True>, <Conv2D name=conv5_block1_0_conv, built=True>, <Conv2D name=conv5_block1_3_conv, built=True>, <BatchNormalization name=conv5_block2_preact_bn, built=True>, <Conv2D name=conv5_block2_1_conv, built=True>, <BatchNormalization name=conv5_block2_1_bn, built=True>, <Conv2D name=conv5_block2_2_conv, built=True>, <BatchNormalization name=conv5_block2_2_bn, built=True>, <Conv2D name=conv5_block2_3_conv, built=True>, <BatchNormalization name=conv5_block3_preact_bn, built=True>, <Conv2D name=conv5_block3_1_conv, built=True>, <BatchNormalization name=conv5_block3_1_bn, built=True>, <Conv2D name=conv5_block3_2_conv, built=True>, <BatchNormalization name=conv5_block3_2_bn, built=True>, <Conv2D name=conv5_block3_3_conv, built=True>, <BatchNormalization name=post_bn, built=True>]"
     ]
    }
   ],
   "source": [
    "model_1 = tf.keras.models.load_model('ready_models/resnet_50_v2.keras')\n"
   ]
  },
  {
   "cell_type": "code",
   "execution_count": null,
   "id": "58b7e790-36f5-4abe-baf8-62ed66a74b86",
   "metadata": {},
   "outputs": [],
   "source": []
  }
 ],
 "metadata": {
  "kernelspec": {
   "display_name": "Python 3 (ipykernel)",
   "language": "python",
   "name": "python3"
  },
  "language_info": {
   "codemirror_mode": {
    "name": "ipython",
    "version": 3
   },
   "file_extension": ".py",
   "mimetype": "text/x-python",
   "name": "python",
   "nbconvert_exporter": "python",
   "pygments_lexer": "ipython3",
   "version": "3.10.12"
  }
 },
 "nbformat": 4,
 "nbformat_minor": 5
}
